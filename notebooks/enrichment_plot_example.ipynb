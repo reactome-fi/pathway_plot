{
 "cells": [
  {
   "cell_type": "markdown",
   "metadata": {},
   "source": [
    "# Visualization of Reactome pathway enrichment results"
   ]
  },
  {
   "cell_type": "code",
   "execution_count": null,
   "metadata": {},
   "outputs": [],
   "source": [
    "import numpy as np\n",
    "import pandas as pd\n",
    "import pathway_plot.visuals as pp\n",
    "import plotly.express as px\n",
    "from reactome2py import analysis\n",
    "import os"
   ]
  },
  {
   "cell_type": "code",
   "execution_count": null,
   "metadata": {},
   "outputs": [],
   "source": [
    "nb_dir = os.getcwd() \n",
    "data_dir = \"../tests/\"\n",
    "\n",
    "# reactome pathway metadata\n",
    "pathways_f = os.path.join(nb_dir, data_dir, \"Pathway_List_In_Hierarchy_Release_79.txt\")\n",
    "pathways = pd.read_csv(pathways_f, sep='\\t')"
   ]
  },
  {
   "cell_type": "code",
   "execution_count": null,
   "metadata": {},
   "outputs": [],
   "source": [
    "# The current Reactome release version this notebook example results\n",
    "!curl -X GET --header 'Accept: text/plain' 'https://reactome.org/ContentService/data/database/version'"
   ]
  },
  {
   "cell_type": "markdown",
   "metadata": {},
   "source": [
    "Reactome pathway enrichment analysis results can often include hundreds of pathways from a short list of genes. To quickly summarize and help identify the most significant pathways in these results, a simple visualization is generated as shown below. We will start with example gene list available in the reactome analysis tools web application."
   ]
  },
  {
   "cell_type": "code",
   "execution_count": null,
   "metadata": {},
   "outputs": [],
   "source": [
    "pd.read_csv('../tests/reactome_example_gene_list.txt')"
   ]
  },
  {
   "cell_type": "markdown",
   "metadata": {},
   "source": [
    "This example gene list can be submitted for pathway enrichment analysis generating the complete list of results below. These results were downloaded directly from the Reactome analysis service: "
   ]
  },
  {
   "cell_type": "code",
   "execution_count": null,
   "metadata": {},
   "outputs": [],
   "source": [
    "df = pd.read_csv('../tests/reactome_example_gene_list_enrichment_results.csv')\n",
    "df"
   ]
  },
  {
   "cell_type": "markdown",
   "metadata": {},
   "source": [
    "We see over 1000 pathways have been identified that contain at least one gene from our list. These results are exhaustive and will contain statistically insignificant results. We will filter based on FDR:"
   ]
  },
  {
   "cell_type": "code",
   "execution_count": null,
   "metadata": {},
   "outputs": [],
   "source": [
    "df[df['Entities FDR'] < 0.01]"
   ]
  },
  {
   "cell_type": "markdown",
   "metadata": {},
   "source": [
    "Now we have a much shorter list of pathways to work with but we still have tabular data. The fireworks and reacfoam visualizations would be available in the web analysis but we would like a simpler visualization for ranking the significance of our enrichment results. We want to see a simple visual summary of the enrichment results that can be used in typical analysis workflows and provide a quick summary of the most signifcant pathway results."
   ]
  },
  {
   "cell_type": "code",
   "execution_count": null,
   "metadata": {},
   "outputs": [],
   "source": [
    "pp.make_scatter_plot(pp.merge_results(df))"
   ]
  },
  {
   "cell_type": "markdown",
   "metadata": {},
   "source": [
    "From the above visualization we can easily see the enrichment results and through plotly, we can use this graph interactively to examine potential pathways of interest."
   ]
  },
  {
   "cell_type": "markdown",
   "metadata": {},
   "source": [
    "## Scanpy use case"
   ]
  },
  {
   "cell_type": "markdown",
   "metadata": {},
   "source": [
    "We will use the processed PBMC3k dataset as an example."
   ]
  },
  {
   "cell_type": "code",
   "execution_count": null,
   "metadata": {},
   "outputs": [],
   "source": [
    "import scanpy as sc\n",
    "adata = sc.datasets.pbmc3k_processed()"
   ]
  },
  {
   "cell_type": "code",
   "execution_count": null,
   "metadata": {},
   "outputs": [],
   "source": [
    "sc.pl.umap(adata, color='louvain')"
   ]
  },
  {
   "cell_type": "markdown",
   "metadata": {},
   "source": [
    "Note the example dataset louvain groups were renamed to their celltype. Let's get the DEGs for each of these celltypes."
   ]
  },
  {
   "cell_type": "code",
   "execution_count": null,
   "metadata": {},
   "outputs": [],
   "source": [
    "sc.tl.rank_genes_groups(adata, groupby='louvain')\n",
    "df = sc.get.rank_genes_groups_df(adata, group=None)"
   ]
  },
  {
   "cell_type": "markdown",
   "metadata": {},
   "source": [
    "We don't want the results for every gene in the dataset. Let's filter out insignificant values and focus on genes with increased expression in CD4 T cells."
   ]
  },
  {
   "cell_type": "code",
   "execution_count": null,
   "metadata": {},
   "outputs": [],
   "source": [
    "df = df[df['group'] =='CD4 T cells']\n",
    "df = df[df['pvals_adj'] < 1E-3]\n",
    "df = df[df['logfoldchanges'] > 2]\n",
    "df"
   ]
  },
  {
   "cell_type": "code",
   "execution_count": null,
   "metadata": {},
   "outputs": [],
   "source": [
    "response = analysis.identifiers(','.join(df.names))\n",
    "#response = identifiers_form(test_input_f)\n",
    "token = response['summary']['token']\n",
    "results = analysis.pathway2df(token)\n",
    "\n",
    "# convert dtypes - results df returned with all string dtypes\n",
    "convert = {\n",
    "    \"#Entities found\": \"int64\",\n",
    "    \"#Entities total\": \"int64\",\n",
    "    \"Entities ratio\": \"float64\",\n",
    "    \"Entities pValue\": \"float64\",\n",
    "    \"Entities FDR\": \"float64\",\n",
    "    \"#Reactions found\": \"int64\",\n",
    "    \"#Reactions total\": \"int64\",\n",
    "    \"Reactions ratio\": \"float64\"\n",
    "}\n",
    "results = results.astype(convert)"
   ]
  },
  {
   "cell_type": "code",
   "execution_count": null,
   "metadata": {},
   "outputs": [],
   "source": [
    "results"
   ]
  },
  {
   "cell_type": "code",
   "execution_count": null,
   "metadata": {},
   "outputs": [],
   "source": [
    "pp.make_scatter_plot(pp.merge_results(results))"
   ]
  },
  {
   "cell_type": "code",
   "execution_count": null,
   "metadata": {},
   "outputs": [],
   "source": []
  },
  {
   "cell_type": "code",
   "execution_count": null,
   "metadata": {},
   "outputs": [],
   "source": []
  },
  {
   "cell_type": "code",
   "execution_count": null,
   "metadata": {},
   "outputs": [],
   "source": []
  }
 ],
 "metadata": {
  "kernelspec": {
   "display_name": "Python 3.9.7 ('immport-plotly')",
   "language": "python",
   "name": "python3"
  },
  "language_info": {
   "codemirror_mode": {
    "name": "ipython",
    "version": 3
   },
   "file_extension": ".py",
   "mimetype": "text/x-python",
   "name": "python",
   "nbconvert_exporter": "python",
   "pygments_lexer": "ipython3",
   "version": "3.9.7"
  },
  "orig_nbformat": 4,
  "vscode": {
   "interpreter": {
    "hash": "d1dbf0d5ffa9e469db550ccb5659346222f2c9e3472bbad84a833e3ce851da67"
   }
  }
 },
 "nbformat": 4,
 "nbformat_minor": 2
}
